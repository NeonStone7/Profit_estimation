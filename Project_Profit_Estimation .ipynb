{
 "cells": [
  {
   "cell_type": "markdown",
   "id": "06470b9c",
   "metadata": {},
   "source": [
    "**PROBLEM STATEMENT** <br>\n",
    "Profit Estimation is a process of predicting a company's profit from it's expenditures.<br>\n",
    "This project utilizes Multiple Linear Regression to predict the profit of 1000 companies based on attributes like R&D Spend, \n",
    "<br>Administration, and Marketing expenses and the State the company is located."
   ]
  },
  {
   "cell_type": "code",
   "execution_count": 1,
   "id": "2b2e22e8",
   "metadata": {},
   "outputs": [],
   "source": [
    "import pandas as pd\n",
    "import numpy as np\n",
    "import matplotlib.pyplot as plt\n",
    "import seaborn as sns\n",
    "import warnings\n",
    "warnings.filterwarnings('ignore')"
   ]
  },
  {
   "cell_type": "code",
   "execution_count": 2,
   "id": "999d70d4",
   "metadata": {},
   "outputs": [],
   "source": [
    "df=pd.read_csv(\"/Users/bambino/Documents/DATASETS/Simplilearn-Machine Learning Full/Linear Regression/1000_Companies.csv\")"
   ]
  },
  {
   "cell_type": "code",
   "execution_count": 3,
   "id": "881933bc",
   "metadata": {},
   "outputs": [
    {
     "data": {
      "text/html": [
       "<div>\n",
       "<style scoped>\n",
       "    .dataframe tbody tr th:only-of-type {\n",
       "        vertical-align: middle;\n",
       "    }\n",
       "\n",
       "    .dataframe tbody tr th {\n",
       "        vertical-align: top;\n",
       "    }\n",
       "\n",
       "    .dataframe thead th {\n",
       "        text-align: right;\n",
       "    }\n",
       "</style>\n",
       "<table border=\"1\" class=\"dataframe\">\n",
       "  <thead>\n",
       "    <tr style=\"text-align: right;\">\n",
       "      <th></th>\n",
       "      <th>R&amp;D Spend</th>\n",
       "      <th>Administration</th>\n",
       "      <th>Marketing Spend</th>\n",
       "      <th>State</th>\n",
       "      <th>Profit</th>\n",
       "    </tr>\n",
       "  </thead>\n",
       "  <tbody>\n",
       "    <tr>\n",
       "      <th>0</th>\n",
       "      <td>165349.20</td>\n",
       "      <td>136897.80</td>\n",
       "      <td>471784.10</td>\n",
       "      <td>New York</td>\n",
       "      <td>192261.83</td>\n",
       "    </tr>\n",
       "    <tr>\n",
       "      <th>1</th>\n",
       "      <td>162597.70</td>\n",
       "      <td>151377.59</td>\n",
       "      <td>443898.53</td>\n",
       "      <td>California</td>\n",
       "      <td>191792.06</td>\n",
       "    </tr>\n",
       "    <tr>\n",
       "      <th>2</th>\n",
       "      <td>153441.51</td>\n",
       "      <td>101145.55</td>\n",
       "      <td>407934.54</td>\n",
       "      <td>Florida</td>\n",
       "      <td>191050.39</td>\n",
       "    </tr>\n",
       "    <tr>\n",
       "      <th>3</th>\n",
       "      <td>144372.41</td>\n",
       "      <td>118671.85</td>\n",
       "      <td>383199.62</td>\n",
       "      <td>New York</td>\n",
       "      <td>182901.99</td>\n",
       "    </tr>\n",
       "    <tr>\n",
       "      <th>4</th>\n",
       "      <td>142107.34</td>\n",
       "      <td>91391.77</td>\n",
       "      <td>366168.42</td>\n",
       "      <td>Florida</td>\n",
       "      <td>166187.94</td>\n",
       "    </tr>\n",
       "  </tbody>\n",
       "</table>\n",
       "</div>"
      ],
      "text/plain": [
       "   R&D Spend  Administration  Marketing Spend       State     Profit\n",
       "0  165349.20       136897.80        471784.10    New York  192261.83\n",
       "1  162597.70       151377.59        443898.53  California  191792.06\n",
       "2  153441.51       101145.55        407934.54     Florida  191050.39\n",
       "3  144372.41       118671.85        383199.62    New York  182901.99\n",
       "4  142107.34        91391.77        366168.42     Florida  166187.94"
      ]
     },
     "execution_count": 3,
     "metadata": {},
     "output_type": "execute_result"
    }
   ],
   "source": [
    "df.head()"
   ]
  },
  {
   "cell_type": "code",
   "execution_count": 4,
   "id": "80aed0ff",
   "metadata": {},
   "outputs": [
    {
     "name": "stdout",
     "output_type": "stream",
     "text": [
      "<class 'pandas.core.frame.DataFrame'>\n",
      "RangeIndex: 1000 entries, 0 to 999\n",
      "Data columns (total 5 columns):\n",
      " #   Column           Non-Null Count  Dtype  \n",
      "---  ------           --------------  -----  \n",
      " 0   R&D Spend        1000 non-null   float64\n",
      " 1   Administration   1000 non-null   float64\n",
      " 2   Marketing Spend  1000 non-null   float64\n",
      " 3   State            1000 non-null   object \n",
      " 4   Profit           1000 non-null   float64\n",
      "dtypes: float64(4), object(1)\n",
      "memory usage: 39.2+ KB\n"
     ]
    }
   ],
   "source": [
    "df.info()"
   ]
  },
  {
   "cell_type": "code",
   "execution_count": 5,
   "id": "9ae5fcc7",
   "metadata": {},
   "outputs": [
    {
     "data": {
      "text/html": [
       "<div>\n",
       "<style scoped>\n",
       "    .dataframe tbody tr th:only-of-type {\n",
       "        vertical-align: middle;\n",
       "    }\n",
       "\n",
       "    .dataframe tbody tr th {\n",
       "        vertical-align: top;\n",
       "    }\n",
       "\n",
       "    .dataframe thead th {\n",
       "        text-align: right;\n",
       "    }\n",
       "</style>\n",
       "<table border=\"1\" class=\"dataframe\">\n",
       "  <thead>\n",
       "    <tr style=\"text-align: right;\">\n",
       "      <th></th>\n",
       "      <th>R&amp;D Spend</th>\n",
       "      <th>Administration</th>\n",
       "      <th>Marketing Spend</th>\n",
       "      <th>Profit</th>\n",
       "    </tr>\n",
       "  </thead>\n",
       "  <tbody>\n",
       "    <tr>\n",
       "      <th>count</th>\n",
       "      <td>1000.000000</td>\n",
       "      <td>1000.000000</td>\n",
       "      <td>1000.000000</td>\n",
       "      <td>1000.000000</td>\n",
       "    </tr>\n",
       "    <tr>\n",
       "      <th>mean</th>\n",
       "      <td>81668.927200</td>\n",
       "      <td>122963.897612</td>\n",
       "      <td>226205.058419</td>\n",
       "      <td>119546.164656</td>\n",
       "    </tr>\n",
       "    <tr>\n",
       "      <th>std</th>\n",
       "      <td>46537.567891</td>\n",
       "      <td>12613.927535</td>\n",
       "      <td>91578.393542</td>\n",
       "      <td>42888.633848</td>\n",
       "    </tr>\n",
       "    <tr>\n",
       "      <th>min</th>\n",
       "      <td>0.000000</td>\n",
       "      <td>51283.140000</td>\n",
       "      <td>0.000000</td>\n",
       "      <td>14681.400000</td>\n",
       "    </tr>\n",
       "    <tr>\n",
       "      <th>25%</th>\n",
       "      <td>43084.500000</td>\n",
       "      <td>116640.684850</td>\n",
       "      <td>150969.584600</td>\n",
       "      <td>85943.198543</td>\n",
       "    </tr>\n",
       "    <tr>\n",
       "      <th>50%</th>\n",
       "      <td>79936.000000</td>\n",
       "      <td>122421.612150</td>\n",
       "      <td>224517.887350</td>\n",
       "      <td>117641.466300</td>\n",
       "    </tr>\n",
       "    <tr>\n",
       "      <th>75%</th>\n",
       "      <td>124565.500000</td>\n",
       "      <td>129139.118000</td>\n",
       "      <td>308189.808525</td>\n",
       "      <td>155577.107425</td>\n",
       "    </tr>\n",
       "    <tr>\n",
       "      <th>max</th>\n",
       "      <td>165349.200000</td>\n",
       "      <td>321652.140000</td>\n",
       "      <td>471784.100000</td>\n",
       "      <td>476485.430000</td>\n",
       "    </tr>\n",
       "  </tbody>\n",
       "</table>\n",
       "</div>"
      ],
      "text/plain": [
       "           R&D Spend  Administration  Marketing Spend         Profit\n",
       "count    1000.000000     1000.000000      1000.000000    1000.000000\n",
       "mean    81668.927200   122963.897612    226205.058419  119546.164656\n",
       "std     46537.567891    12613.927535     91578.393542   42888.633848\n",
       "min         0.000000    51283.140000         0.000000   14681.400000\n",
       "25%     43084.500000   116640.684850    150969.584600   85943.198543\n",
       "50%     79936.000000   122421.612150    224517.887350  117641.466300\n",
       "75%    124565.500000   129139.118000    308189.808525  155577.107425\n",
       "max    165349.200000   321652.140000    471784.100000  476485.430000"
      ]
     },
     "execution_count": 5,
     "metadata": {},
     "output_type": "execute_result"
    }
   ],
   "source": [
    "df.describe()"
   ]
  },
  {
   "cell_type": "code",
   "execution_count": 6,
   "id": "25261b65",
   "metadata": {},
   "outputs": [],
   "source": [
    "X=df.iloc[:,0:4]\n",
    "y=df.iloc[:,-1]"
   ]
  },
  {
   "cell_type": "code",
   "execution_count": 7,
   "id": "d1b89cc7",
   "metadata": {},
   "outputs": [
    {
     "data": {
      "text/html": [
       "<div>\n",
       "<style scoped>\n",
       "    .dataframe tbody tr th:only-of-type {\n",
       "        vertical-align: middle;\n",
       "    }\n",
       "\n",
       "    .dataframe tbody tr th {\n",
       "        vertical-align: top;\n",
       "    }\n",
       "\n",
       "    .dataframe thead th {\n",
       "        text-align: right;\n",
       "    }\n",
       "</style>\n",
       "<table border=\"1\" class=\"dataframe\">\n",
       "  <thead>\n",
       "    <tr style=\"text-align: right;\">\n",
       "      <th></th>\n",
       "      <th>R&amp;D Spend</th>\n",
       "      <th>Administration</th>\n",
       "      <th>Marketing Spend</th>\n",
       "      <th>State</th>\n",
       "    </tr>\n",
       "  </thead>\n",
       "  <tbody>\n",
       "    <tr>\n",
       "      <th>0</th>\n",
       "      <td>165349.20</td>\n",
       "      <td>136897.800</td>\n",
       "      <td>471784.1000</td>\n",
       "      <td>New York</td>\n",
       "    </tr>\n",
       "    <tr>\n",
       "      <th>1</th>\n",
       "      <td>162597.70</td>\n",
       "      <td>151377.590</td>\n",
       "      <td>443898.5300</td>\n",
       "      <td>California</td>\n",
       "    </tr>\n",
       "    <tr>\n",
       "      <th>2</th>\n",
       "      <td>153441.51</td>\n",
       "      <td>101145.550</td>\n",
       "      <td>407934.5400</td>\n",
       "      <td>Florida</td>\n",
       "    </tr>\n",
       "    <tr>\n",
       "      <th>3</th>\n",
       "      <td>144372.41</td>\n",
       "      <td>118671.850</td>\n",
       "      <td>383199.6200</td>\n",
       "      <td>New York</td>\n",
       "    </tr>\n",
       "    <tr>\n",
       "      <th>4</th>\n",
       "      <td>142107.34</td>\n",
       "      <td>91391.770</td>\n",
       "      <td>366168.4200</td>\n",
       "      <td>Florida</td>\n",
       "    </tr>\n",
       "    <tr>\n",
       "      <th>...</th>\n",
       "      <td>...</td>\n",
       "      <td>...</td>\n",
       "      <td>...</td>\n",
       "      <td>...</td>\n",
       "    </tr>\n",
       "    <tr>\n",
       "      <th>995</th>\n",
       "      <td>54135.00</td>\n",
       "      <td>118451.999</td>\n",
       "      <td>173232.6695</td>\n",
       "      <td>California</td>\n",
       "    </tr>\n",
       "    <tr>\n",
       "      <th>996</th>\n",
       "      <td>134970.00</td>\n",
       "      <td>130390.080</td>\n",
       "      <td>329204.0228</td>\n",
       "      <td>California</td>\n",
       "    </tr>\n",
       "    <tr>\n",
       "      <th>997</th>\n",
       "      <td>100275.47</td>\n",
       "      <td>241926.310</td>\n",
       "      <td>227142.8200</td>\n",
       "      <td>California</td>\n",
       "    </tr>\n",
       "    <tr>\n",
       "      <th>998</th>\n",
       "      <td>128456.23</td>\n",
       "      <td>321652.140</td>\n",
       "      <td>281692.3200</td>\n",
       "      <td>California</td>\n",
       "    </tr>\n",
       "    <tr>\n",
       "      <th>999</th>\n",
       "      <td>161181.72</td>\n",
       "      <td>270939.860</td>\n",
       "      <td>295442.1700</td>\n",
       "      <td>New York</td>\n",
       "    </tr>\n",
       "  </tbody>\n",
       "</table>\n",
       "<p>1000 rows × 4 columns</p>\n",
       "</div>"
      ],
      "text/plain": [
       "     R&D Spend  Administration  Marketing Spend       State\n",
       "0    165349.20      136897.800      471784.1000    New York\n",
       "1    162597.70      151377.590      443898.5300  California\n",
       "2    153441.51      101145.550      407934.5400     Florida\n",
       "3    144372.41      118671.850      383199.6200    New York\n",
       "4    142107.34       91391.770      366168.4200     Florida\n",
       "..         ...             ...              ...         ...\n",
       "995   54135.00      118451.999      173232.6695  California\n",
       "996  134970.00      130390.080      329204.0228  California\n",
       "997  100275.47      241926.310      227142.8200  California\n",
       "998  128456.23      321652.140      281692.3200  California\n",
       "999  161181.72      270939.860      295442.1700    New York\n",
       "\n",
       "[1000 rows x 4 columns]"
      ]
     },
     "execution_count": 7,
     "metadata": {},
     "output_type": "execute_result"
    }
   ],
   "source": [
    "X"
   ]
  },
  {
   "cell_type": "code",
   "execution_count": 8,
   "id": "24d3460f",
   "metadata": {},
   "outputs": [
    {
     "data": {
      "text/plain": [
       "0      192261.83000\n",
       "1      191792.06000\n",
       "2      191050.39000\n",
       "3      182901.99000\n",
       "4      166187.94000\n",
       "           ...     \n",
       "995     95279.96251\n",
       "996    164336.60550\n",
       "997    413956.48000\n",
       "998    333962.19000\n",
       "999    476485.43000\n",
       "Name: Profit, Length: 1000, dtype: float64"
      ]
     },
     "execution_count": 8,
     "metadata": {},
     "output_type": "execute_result"
    }
   ],
   "source": [
    "y"
   ]
  },
  {
   "cell_type": "code",
   "execution_count": 9,
   "id": "abf78fae",
   "metadata": {},
   "outputs": [
    {
     "data": {
      "text/plain": [
       "<AxesSubplot:>"
      ]
     },
     "execution_count": 9,
     "metadata": {},
     "output_type": "execute_result"
    },
    {
     "data": {
      "image/png": "[encoded data removed]",
      "text/plain": [
       "<Figure size 432x288 with 2 Axes>"
      ]
     },
     "metadata": {
      "needs_background": "light"
     },
     "output_type": "display_data"
    }
   ],
   "source": [
    "sns.heatmap(df.corr(),annot=True,cmap='magma_r')"
   ]
  },
  {
   "cell_type": "markdown",
   "id": "12eb1b80",
   "metadata": {},
   "source": [
    "Correlation between attributes and Profit: R&D spend > Marketing Spend > Administration."
   ]
  },
  {
   "cell_type": "code",
   "execution_count": 13,
   "id": "75990333",
   "metadata": {},
   "outputs": [],
   "source": [
    "from sklearn.preprocessing import LabelEncoder, OneHotEncoder\n",
    "from sklearn.compose import ColumnTransformer"
   ]
  },
  {
   "cell_type": "code",
   "execution_count": 14,
   "id": "06a059dc",
   "metadata": {},
   "outputs": [],
   "source": [
    "ct=ColumnTransformer([('State',OneHotEncoder(),[3])],remainder='passthrough')\n",
    "X=ct.fit_transform(X)"
   ]
  },
  {
   "cell_type": "code",
   "execution_count": 15,
   "id": "2cc8c107",
   "metadata": {},
   "outputs": [],
   "source": [
    "labelencoder = LabelEncoder()\n",
    "X[:, 3] = labelencoder.fit_transform(X[:, 3])"
   ]
  },
  {
   "cell_type": "code",
   "execution_count": 16,
   "id": "83e8153d",
   "metadata": {},
   "outputs": [
    {
     "data": {
      "text/plain": [
       "array([[0.0000000e+00, 0.0000000e+00, 1.0000000e+00, 9.9600000e+02,\n",
       "        1.3689780e+05, 4.7178410e+05],\n",
       "       [1.0000000e+00, 0.0000000e+00, 0.0000000e+00, 9.9500000e+02,\n",
       "        1.5137759e+05, 4.4389853e+05],\n",
       "       [0.0000000e+00, 1.0000000e+00, 0.0000000e+00, 9.4700000e+02,\n",
       "        1.0114555e+05, 4.0793454e+05],\n",
       "       ...,\n",
       "       [1.0000000e+00, 0.0000000e+00, 0.0000000e+00, 6.0100000e+02,\n",
       "        2.4192631e+05, 2.2714282e+05],\n",
       "       [1.0000000e+00, 0.0000000e+00, 0.0000000e+00, 7.7500000e+02,\n",
       "        3.2165214e+05, 2.8169232e+05],\n",
       "       [0.0000000e+00, 0.0000000e+00, 1.0000000e+00, 9.9400000e+02,\n",
       "        2.7093986e+05, 2.9544217e+05]])"
      ]
     },
     "execution_count": 16,
     "metadata": {},
     "output_type": "execute_result"
    }
   ],
   "source": [
    "X"
   ]
  },
  {
   "cell_type": "code",
   "execution_count": 31,
   "id": "d80bd2f1",
   "metadata": {},
   "outputs": [],
   "source": [
    "from sklearn.model_selection import train_test_split\n",
    "X_train,X_test,y_train,y_test=train_test_split(X,y,test_size=0.3,random_state=10)"
   ]
  },
  {
   "cell_type": "code",
   "execution_count": 32,
   "id": "0fd68fb0",
   "metadata": {},
   "outputs": [
    {
     "data": {
      "text/plain": [
       "(300,)"
      ]
     },
     "execution_count": 32,
     "metadata": {},
     "output_type": "execute_result"
    }
   ],
   "source": [
    "y_test.shape"
   ]
  },
  {
   "cell_type": "code",
   "execution_count": 33,
   "id": "cafc69b1",
   "metadata": {},
   "outputs": [
    {
     "data": {
      "text/plain": [
       "(300, 6)"
      ]
     },
     "execution_count": 33,
     "metadata": {},
     "output_type": "execute_result"
    }
   ],
   "source": [
    "X_test.shape"
   ]
  },
  {
   "cell_type": "code",
   "execution_count": 34,
   "id": "e2eb3e60",
   "metadata": {},
   "outputs": [
    {
     "data": {
      "text/plain": [
       "LinearRegression()"
      ]
     },
     "execution_count": 34,
     "metadata": {},
     "output_type": "execute_result"
    }
   ],
   "source": [
    "from sklearn.linear_model import LinearRegression\n",
    "lr=LinearRegression()\n",
    "lr.fit(X_train,y_train)"
   ]
  },
  {
   "cell_type": "code",
   "execution_count": 38,
   "id": "e56a2fdd",
   "metadata": {},
   "outputs": [
    {
     "data": {
      "text/plain": [
       "array([ 95549.7246715 ,  76419.51723358,  77005.81831462,  88192.62088661,\n",
       "       163164.23895336,  50342.06527115, 117335.06849288,  97023.42695785,\n",
       "        94029.38334519, 129798.82962821, 152551.29383621, 176263.42216787,\n",
       "       183133.00444629, 146483.79275168, 173016.99050494,  79252.19485755,\n",
       "       149755.93099939,  87130.64012673, 107347.97968587, 172582.18022548,\n",
       "       153964.16246386, 146822.46419856, 113798.20290065,  54553.12391054,\n",
       "        71777.44037405, 120786.80707218, 184599.38034603,  69374.88965415,\n",
       "       142956.08424428, 161118.58623662,  93904.00348367, 108446.97178413,\n",
       "       184412.44989952, 128263.23341786, 154214.951931  ,  96392.64226706,\n",
       "       160142.36224293,  99258.61281054, 173230.75841873,  95431.33886832,\n",
       "        92710.68673228, 155758.21589087,  56596.08417062,  74224.25755794,\n",
       "       166979.11983983,  63828.19064949,  97220.65839416, 104596.2602243 ,\n",
       "       143911.90572034,  59422.63766796, 136196.17456925,  58763.7077459 ,\n",
       "       145730.45571503, 163260.00457972,  82409.28347607, 181196.91803806,\n",
       "        79284.02662878,  58618.85780581, 180121.26218928, 124902.38537079,\n",
       "       181998.22110332, 148343.86211777,  81906.64462595, 159485.68076606,\n",
       "       173292.87810535, 163958.68410265, 182415.99439123,  97784.43184955,\n",
       "       171213.44483943, 148964.33723479, 149124.80342024,  92992.44847159,\n",
       "       160376.87403726,  76056.34932455, 143584.73611427, 119276.73057373,\n",
       "       107463.29831279,  93625.81543286,  86460.74942389,  97349.39570194,\n",
       "       185461.51839618,  92425.31710832, 151476.19524745, 178477.46675304,\n",
       "       171770.69058293, 149716.81478333,  52939.18235801, 156875.14489608,\n",
       "       158012.31103662, 102658.47394357, 100200.96238863, 170360.37250988,\n",
       "        58329.38343577, 108100.59055138,  76790.01024769, 111995.08129467,\n",
       "       214873.01871238,  64014.83035344,  72333.70351648, 141289.96077179,\n",
       "       140102.34159626, 130906.26639491,  56836.13860206,  70234.63468082,\n",
       "       182501.6586172 , 102180.67163698, 142825.22420322,  95383.29165758,\n",
       "       157310.56445391,  78355.30141372, 125787.66185396, 150764.09953488,\n",
       "        60635.71559985,  97954.44243026, 120645.71344532, 135151.42554631,\n",
       "        78007.08720257, 175167.27897402, 168629.82639819,  72616.58457189,\n",
       "       142444.3694805 ,  90185.79085221, 174113.59957267, 151040.82642645,\n",
       "        73713.77547753, 173079.87701201,  94177.11476686, 183878.97445799,\n",
       "        52875.1977551 ,  80753.16886375, 179440.35452951, 123371.51733282,\n",
       "       137314.90432594,  87587.01302   , 107111.331298  , 149676.30844734,\n",
       "       126465.51116537, 104917.89467963, 158926.12447369, 116665.17767355,\n",
       "       137130.94824964,  73970.11018293, 182140.50031047, 114441.9824348 ,\n",
       "       135333.45446206, 157269.40819025, 126951.70610013,  98267.8200437 ,\n",
       "       173691.48190847, 117973.30515257, 170666.07216981, 121828.42088607,\n",
       "       171694.34475663, 111604.26857604, 176069.59067581, 117101.91510262,\n",
       "       145084.0432791 ,  94039.68248631, 126210.98049661, 161920.15093374,\n",
       "       172268.73013037, 165116.9368956 ,  65250.74683296,  62393.97766894,\n",
       "       171948.41963902,  58187.78884336, 138405.88569175, 167980.30626413,\n",
       "       165310.38509392, 162045.85899291, 141081.17686338, 140156.91664633,\n",
       "       140275.85338381, 140719.04852805,  50343.26612874, 157557.68756488,\n",
       "       163961.96704859, 153815.9647067 ,  83628.1441651 , 160528.57438831,\n",
       "       127723.6136637 , 151520.75383011, 181295.57439414, 168514.03180988,\n",
       "        72847.21198545,  89206.11641042, 129961.26050522, 141710.03452105,\n",
       "       174434.34422202, 103506.26134307, 139395.87110532, 111722.13764108,\n",
       "       185292.26581897, 175614.06706665,  79416.59792234,  55445.499125  ,\n",
       "        94064.08638634,  59114.25424857,  97458.02907488,  70690.67490069,\n",
       "       183427.10710651,  88880.77107133, 135880.22547151,  89828.32301027,\n",
       "       107540.09991449,  53448.8468669 , 116999.63184093, 138772.42159618,\n",
       "       106822.11758979, 132959.59453465,  74371.78104583, 105494.10443683,\n",
       "       132762.93592229, 177895.29041129, 175487.2466935 , 130690.10547955,\n",
       "        98469.40197095, 158595.88782974, 164073.71199795, 178572.03152839,\n",
       "        60948.44950252,  82316.15098445,  45804.22512329,  50562.82688391,\n",
       "       126054.37861479, 128384.16965916, 135742.96082056, 156114.60586731,\n",
       "        86138.94733896, 184852.63778764, 144762.10786625, 180810.36452977,\n",
       "        97556.73864807, 137233.99833178,  59113.62074618,  76088.80438432,\n",
       "       121954.18381269, 143773.96702214,  73142.94344547, 109544.72099502,\n",
       "       109619.49263664, 132997.61414747, 155207.61101214, 127213.78152192,\n",
       "       173462.63846536, 176344.23548341, 143816.56554057, 131239.99427466,\n",
       "       117919.96291332,  73937.89511795, 151610.0018321 , 166629.96367692,\n",
       "        56527.37177244, 127541.33452726, 116406.93624848,  90318.10184849,\n",
       "       161025.88776462,  93793.65886919, 150266.78615858, 121231.51810164,\n",
       "       115594.17336782,  95764.68473585, 161345.29684798, 136782.31880686,\n",
       "       100293.66084967,  86693.38608696, 186037.075618  , 158700.22122655,\n",
       "       142787.85740868, 145268.23922274,  86576.19657967, 100126.19073605,\n",
       "       131709.81778669,  13780.69024135,  86246.81389145, 137705.41620352,\n",
       "        63649.70486046, 169576.91247421,  98950.21929706,  52283.86055467,\n",
       "       103594.94820676,  76277.78509339,  55435.58166082,  79167.54767272,\n",
       "        51321.18867421, 164917.65531322, 170825.01492932, 112225.71855945,\n",
       "       107832.24758752,  70404.87112967, 182836.87948854, 124795.55381265,\n",
       "       139917.62892543,  51896.24820293,  55995.0586037 ,  94910.89880296,\n",
       "       140395.00588   ,  91743.19838257,  85562.10407826, 169318.27754044])"
      ]
     },
     "execution_count": 38,
     "metadata": {},
     "output_type": "execute_result"
    }
   ],
   "source": [
    "pred=lr.predict(X_test)\n",
    "pred"
   ]
  },
  {
   "cell_type": "code",
   "execution_count": 36,
   "id": "76bc48a1",
   "metadata": {},
   "outputs": [
    {
     "name": "stdout",
     "output_type": "stream",
     "text": [
      "Intercept: -87199.05688719143\n",
      "Coefficient: [-2.43620092e+02 -3.00652912e+02  5.44273004e+02  7.77461502e+01\n",
      "  1.16485359e+00  1.09542031e-01]\n"
     ]
    }
   ],
   "source": [
    "print('Intercept:',lr.intercept_)\n",
    "print('Coefficient:',lr.coef_)"
   ]
  },
  {
   "cell_type": "code",
   "execution_count": 37,
   "id": "01bdca64",
   "metadata": {},
   "outputs": [],
   "source": [
    "from sklearn.metrics import r2_score"
   ]
  },
  {
   "cell_type": "code",
   "execution_count": 39,
   "id": "518c51bb",
   "metadata": {},
   "outputs": [
    {
     "data": {
      "text/plain": [
       "0.9634955269156089"
      ]
     },
     "execution_count": 39,
     "metadata": {},
     "output_type": "execute_result"
    }
   ],
   "source": [
    "r2_score(y_test,pred)"
   ]
  }
 ],
 "metadata": {
  "kernelspec": {
   "display_name": "Python 3",
   "language": "python",
   "name": "python3"
  },
  "language_info": {
   "codemirror_mode": {
    "name": "ipython",
    "version": 3
   },
   "file_extension": ".py",
   "mimetype": "text/x-python",
   "name": "python",
   "nbconvert_exporter": "python",
   "pygments_lexer": "ipython3",
   "version": "3.8.8"
  }
 },
 "nbformat": 4,
 "nbformat_minor": 5
}
